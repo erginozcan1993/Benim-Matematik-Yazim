{
 "cells": [
  {
   "cell_type": "markdown",
   "metadata": {},
   "source": [
    " ## Benim Matematik Blog Yazım"
   ]
  },
  {
   "cell_type": "markdown",
   "metadata": {},
   "source": [
    "Aslında bakacak olursanız matematik dersinin veri bilimiyle alakası gayet iyiydi. Ancak asıl mesele, ülkemizdeki matematik konularında yaşanan anlatma problemi. Anlatım ve aktarma konusu matematikte sıkça yaşanan sorunlardan geldiği için böyle bir durum olabiliyor."
   ]
  },
  {
   "cell_type": "code",
   "execution_count": null,
   "metadata": {},
   "outputs": [],
   "source": []
  }
 ],
 "metadata": {
  "kernelspec": {
   "display_name": "Python 3",
   "language": "python",
   "name": "python3"
  },
  "language_info": {
   "codemirror_mode": {
    "name": "ipython",
    "version": 3
   },
   "file_extension": ".py",
   "mimetype": "text/x-python",
   "name": "python",
   "nbconvert_exporter": "python",
   "pygments_lexer": "ipython3",
   "version": "3.8.5"
  }
 },
 "nbformat": 4,
 "nbformat_minor": 4
}
